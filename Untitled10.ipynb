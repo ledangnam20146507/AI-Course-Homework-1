{
  "cells": [
    {
      "cell_type": "markdown",
      "metadata": {
        "id": "view-in-github",
        "colab_type": "text"
      },
      "source": [
        "<a href=\"https://colab.research.google.com/github/ledangnam20146507/AI-Course-Homework-1/blob/main/Untitled10.ipynb\" target=\"_parent\"><img src=\"https://colab.research.google.com/assets/colab-badge.svg\" alt=\"Open In Colab\"/></a>"
      ]
    },
    {
      "cell_type": "code",
      "execution_count": null,
      "metadata": {
        "colab": {
          "base_uri": "https://localhost:8080/"
        },
        "id": "30D_zqsY5fxO",
        "outputId": "d224a5c3-8efc-46ef-9146-be2f7226ae83"
      },
      "outputs": [
        {
          "name": "stdout",
          "output_type": "stream",
          "text": [
            "Looking in indexes: https://pypi.org/simple, https://us-python.pkg.dev/colab-wheels/public/simple/\n",
            "Collecting youtube-search\n",
            "  Downloading youtube_search-2.1.2-py3-none-any.whl (3.4 kB)\n",
            "Requirement already satisfied: requests in /usr/local/lib/python3.9/dist-packages (from youtube-search) (2.27.1)\n",
            "Requirement already satisfied: certifi>=2017.4.17 in /usr/local/lib/python3.9/dist-packages (from requests->youtube-search) (2022.12.7)\n",
            "Requirement already satisfied: idna<4,>=2.5 in /usr/local/lib/python3.9/dist-packages (from requests->youtube-search) (3.4)\n",
            "Requirement already satisfied: charset-normalizer~=2.0.0 in /usr/local/lib/python3.9/dist-packages (from requests->youtube-search) (2.0.12)\n",
            "Requirement already satisfied: urllib3<1.27,>=1.21.1 in /usr/local/lib/python3.9/dist-packages (from requests->youtube-search) (1.26.15)\n",
            "Installing collected packages: youtube-search\n",
            "Successfully installed youtube-search-2.1.2\n"
          ]
        }
      ],
      "source": [
        "pip install youtube-search\n"
      ]
    },
    {
      "cell_type": "code",
      "execution_count": null,
      "metadata": {
        "colab": {
          "base_uri": "https://localhost:8080/"
        },
        "id": "9qoDQKzJ2vwk",
        "outputId": "0c433c6b-28e8-47be-b081-8d91475a13e9"
      },
      "outputs": [
        {
          "name": "stdout",
          "output_type": "stream",
          "text": [
            "Nhap vao ten bai hat: chay ngay di\n",
            "[{'id': '-vtBgNxMyZI', 'thumbnails': ['https://i.ytimg.com/vi/-vtBgNxMyZI/hq720.jpg?sqp=-oaymwEjCOgCEMoBSFryq4qpAxUIARUAAAAAGAElAADIQj0AgKJDeAE=&rs=AOn4CLAo3uFusrUkp0hQNaLNzm22kQhK-w', 'https://i.ytimg.com/vi/-vtBgNxMyZI/hq720.jpg?sqp=-oaymwEXCNAFEJQDSFryq4qpAwkIARUAAIhCGAE=&rs=AOn4CLCHNUJA3yWIENtgUu6lNZxWh1HL5g'], 'title': 'CHẠY NGAY ĐI (ONIONN REMIX)| RUN NOW (ONIONN REMIX) | SƠN TÙNG M-TP | Official Music Video', 'long_desc': None, 'channel': 'Sơn Tùng M-TP Official', 'duration': '5:17', 'views': '33,945,154 views', 'publish_time': '4 years ago', 'url_suffix': '/watch?v=-vtBgNxMyZI&pp=ygUMY2hheSBuZ2F5IGRp'}, {'id': '32sYGCOYJUM', 'thumbnails': ['https://i.ytimg.com/vi/32sYGCOYJUM/hq720.jpg?sqp=-oaymwEjCOgCEMoBSFryq4qpAxUIARUAAAAAGAElAADIQj0AgKJDeAE=&rs=AOn4CLCWjcTm6e5xSNSRsHprzG45s3szBg', 'https://i.ytimg.com/vi/32sYGCOYJUM/hq720.jpg?sqp=-oaymwEXCNAFEJQDSFryq4qpAwkIARUAAIhCGAE=&rs=AOn4CLAZDHzOarWkyn77G8TOzYH76A3U_g'], 'title': 'CHẠY NGAY ĐI | RUN NOW | SƠN TÙNG M-TP | Official Music Video', 'long_desc': None, 'channel': 'Sơn Tùng M-TP Official', 'duration': '4:34', 'views': '153,622,927 views', 'publish_time': '4 years ago', 'url_suffix': '/watch?v=32sYGCOYJUM&pp=ygUMY2hheSBuZ2F5IGRp'}, {'id': 'ELXKUpZPr9U', 'thumbnails': ['https://i.ytimg.com/vi/ELXKUpZPr9U/hq720.jpg?sqp=-oaymwEjCOgCEMoBSFryq4qpAxUIARUAAAAAGAElAADIQj0AgKJDeAE=&rs=AOn4CLDdGFHFNXz5yf4iwxHA1Jm4-ZPkew', 'https://i.ytimg.com/vi/ELXKUpZPr9U/hq720.jpg?sqp=-oaymwEXCNAFEJQDSFryq4qpAwkIARUAAIhCGAE=&rs=AOn4CLBBGcEfuFNfZhPGqunaOZ50cKVdyA'], 'title': 'Chạy ngay đi - (sped up)', 'long_desc': None, 'channel': 'Zach', 'duration': '2:43', 'views': '146,630 views', 'publish_time': '10 months ago', 'url_suffix': '/watch?v=ELXKUpZPr9U&pp=ygUMY2hheSBuZ2F5IGRp'}, {'id': '4Z5G-81SJa4', 'thumbnails': ['https://i.ytimg.com/vi/4Z5G-81SJa4/hq720.jpg?sqp=-oaymwEjCOgCEMoBSFryq4qpAxUIARUAAAAAGAElAADIQj0AgKJDeAE=&rs=AOn4CLDT6EoCVhMS9bRUFAoVlemxSO4QIw', 'https://i.ytimg.com/vi/4Z5G-81SJa4/hq720.jpg?sqp=-oaymwEXCNAFEJQDSFryq4qpAwkIARUAAIhCGAE=&rs=AOn4CLD3CD-UFvpUXMw4HxgZG66FyyAJ_w'], 'title': '《和訳》𝙏𝙞𝙠 𝙏𝙤𝙠で流行ってる曲 |  Chạy Ngay Đi (Onionn Remix ) - Sơn Tùng M-TP', 'long_desc': None, 'channel': 'Bad Mood', 'duration': '2:45', 'views': '427,527 views', 'publish_time': '10 months ago', 'url_suffix': '/watch?v=4Z5G-81SJa4&pp=ygUMY2hheSBuZ2F5IGRp'}, {'id': 'V7EqtaI2jHk', 'thumbnails': ['https://i.ytimg.com/vi/V7EqtaI2jHk/hq720.jpg?sqp=-oaymwE9COgCEMoBSFryq4qpAy8IARUAAAAAGAElAADIQj0AgKJDeAHwAQH4Af4JgAK0BYoCDAgAEAEYSyBlKEcwDw==&rs=AOn4CLChu4Vbw67Q6AvkvsWshVYKAtd8DA', 'https://i.ytimg.com/vi/V7EqtaI2jHk/hq720.jpg?sqp=-oaymwExCNAFEJQDSFryq4qpAyMIARUAAIhCGAHwAQH4Af4JgAK0BYoCDAgAEAEYSyBlKEcwDw==&rs=AOn4CLCwD1LH6saJ8YYPnIioXl_HzycN7Q'], 'title': 'chay ngay di (onionn remix) - sped up', 'long_desc': None, 'channel': 'aicoh!', 'duration': '2:49', 'views': '704,863 views', 'publish_time': '10 months ago', 'url_suffix': '/watch?v=V7EqtaI2jHk&pp=ygUMY2hheSBuZ2F5IGRp'}, {'id': 'TY82PxEqYH0', 'thumbnails': ['https://i.ytimg.com/vi/TY82PxEqYH0/hq720.jpg?sqp=-oaymwE9COgCEMoBSFryq4qpAy8IARUAAAAAGAElAADIQj0AgKJDeAHwAQH4AfYJgALQBYoCDAgAEAEYJSAxKH8wDw==&rs=AOn4CLCq0yWqq4ff8JREX3MJ8w46n2IH1Q', 'https://i.ytimg.com/vi/TY82PxEqYH0/hq720.jpg?sqp=-oaymwExCNAFEJQDSFryq4qpAyMIARUAAIhCGAHwAQH4AfYJgALQBYoCDAgAEAEYJSAxKH8wDw==&rs=AOn4CLDAYcK1MSBaDWTOcqR1ugWMPLVgwA'], 'title': 'CHẠY NGAY ĐI || SOLV REMIX ( HOT TIK TOK )', 'long_desc': None, 'channel': 'KA-13', 'duration': '4:09', 'views': '7,275 views', 'publish_time': '13 days ago', 'url_suffix': '/watch?v=TY82PxEqYH0&pp=ygUMY2hheSBuZ2F5IGRp'}, {'id': 'ujS-ushyaWM', 'thumbnails': ['https://i.ytimg.com/vi/ujS-ushyaWM/hq720.jpg?sqp=-oaymwE9COgCEMoBSFryq4qpAy8IARUAAAAAGAElAADIQj0AgKJDeAHwAQH4Af4JgALQBYoCDAgAEAEYZSBPKE0wDw==&rs=AOn4CLCZlk0Z-2qgidCuHm2klbozLNG-aw', 'https://i.ytimg.com/vi/ujS-ushyaWM/hq720.jpg?sqp=-oaymwExCNAFEJQDSFryq4qpAyMIARUAAIhCGAHwAQH4Af4JgALQBYoCDAgAEAEYZSBPKE0wDw==&rs=AOn4CLBqt7PDJo6s3f11djLEz_W23UCa5w'], 'title': 'CHẠY NGAY ĐI ( ONIONN REMIX ) // SƠN TÙNG M-TP [ Edit Audio ]', 'long_desc': None, 'channel': 'alxnvs', 'duration': '0:24', 'views': '531,598 views', 'publish_time': '11 months ago', 'url_suffix': '/watch?v=ujS-ushyaWM&pp=ygUMY2hheSBuZ2F5IGRp'}, {'id': 'HTpElUKizfA', 'thumbnails': ['https://i.ytimg.com/vi/HTpElUKizfA/hqdefault.jpg?sqp=-oaymwE9COADEI4CSFryq4qpAy8IARUAAAAAGAElAADIQj0AgKJDeAHwAQH4Af4JgALQBYoCDAgAEAEYfyAfKCUwDw==&rs=AOn4CLA-2i0-E_blkY6Ie14p_eIhm7-JEQ'], 'title': 'Chang ngay di  (speed up) 30 mins', 'long_desc': None, 'channel': 'SIRI (ศิริ)', 'duration': '29:58', 'views': '4,081 views', 'publish_time': '9 months ago', 'url_suffix': '/watch?v=HTpElUKizfA&pp=ygUMY2hheSBuZ2F5IGRp'}, {'id': 'qlIrzQ5Kk5w', 'thumbnails': ['https://i.ytimg.com/vi/qlIrzQ5Kk5w/hq720.jpg?sqp=-oaymwE9COgCEMoBSFryq4qpAy8IARUAAAAAGAElAADIQj0AgKJDeAHwAQH4Af4JgALQBYoCDAgAEAEYciBPKD4wDw==&rs=AOn4CLC9WgmN2N2SW-itUJ2rrzPVgeaihg', 'https://i.ytimg.com/vi/qlIrzQ5Kk5w/hq720.jpg?sqp=-oaymwExCNAFEJQDSFryq4qpAyMIARUAAIhCGAHwAQH4Af4JgALQBYoCDAgAEAEYciBPKD4wDw==&rs=AOn4CLAA9Up--D2AHJqey4h9n9kJUK5_dg'], 'title': 'chay ngay di - speed up', 'long_desc': None, 'channel': 'kaechio', 'duration': '2:46', 'views': '114,695 views', 'publish_time': '10 months ago', 'url_suffix': '/watch?v=qlIrzQ5Kk5w&pp=ygUMY2hheSBuZ2F5IGRp'}, {'id': 'xGtfLqPxFjM', 'thumbnails': ['https://i.ytimg.com/vi/xGtfLqPxFjM/hq720.jpg?sqp=-oaymwEjCOgCEMoBSFryq4qpAxUIARUAAAAAGAElAADIQj0AgKJDeAE=&rs=AOn4CLBmKOVXxot7NFFRnrbioGtFPVsNeQ', 'https://i.ytimg.com/vi/xGtfLqPxFjM/hq720.jpg?sqp=-oaymwEXCNAFEJQDSFryq4qpAwkIARUAAIhCGAE=&rs=AOn4CLDPVPBc2-nGMiy-sIYhsIqWhHs1mg'], 'title': 'CHẠY NGAY ĐI - TRUNG RUỒI, MINH TÍT, THƯƠNG CIN - MV PARODY | PHIM CA NHẠC', 'long_desc': None, 'channel': 'Trung Ruồi Official ', 'duration': '9:58', 'views': '79,855,916 views', 'publish_time': '4 years ago', 'url_suffix': '/watch?v=xGtfLqPxFjM&pp=ygUMY2hheSBuZ2F5IGRp'}]\n",
            "/watch?v=-vtBgNxMyZI&pp=ygUMY2hheSBuZ2F5IGRp\n",
            "http://www.youtube.com/watch?v=-vtBgNxMyZI&pp=ygUMY2hheSBuZ2F5IGRp\n"
          ]
        },
        {
          "data": {
            "text/plain": [
              "False"
            ]
          },
          "execution_count": 6,
          "metadata": {},
          "output_type": "execute_result"
        }
      ],
      "source": [
        "import youtube_search\n",
        "from youtube_search import YoutubeSearch\n",
        "import webbrowser\n",
        "\n",
        "ringsong = input('Nhap vao ten bai hat: ')\n",
        "result = YoutubeSearch(ringsong, max_results=10).to_dict()\n",
        "print(result)\n",
        "print(result[0]['url_suffix'])\n",
        "url = 'http://www.youtube.com' + result[0]['url_suffix']\n",
        "print(url)\n",
        "webbrowser.open(url)\n",
        "\n"
      ]
    },
    {
      "cell_type": "code",
      "execution_count": null,
      "metadata": {
        "colab": {
          "base_uri": "https://localhost:8080/"
        },
        "id": "301bELUG_TWG",
        "outputId": "feef1fa3-1cf1-4ee7-e695-f62401df56ea"
      },
      "outputs": [
        {
          "name": "stdout",
          "output_type": "stream",
          "text": [
            "Xin nhap ten bai hat: chay ngay di\n",
            "CHẠY NGAY ĐI (ONIONN REMIX)| RUN NOW (ONIONN REMIX) | SƠN TÙNG M-TP | Official Music Video\n",
            "/watch?v=-vtBgNxMyZI&pp=ygUMY2hheSBuZ2F5IGRp\n",
            "http://www.youtube.com/watch?v=-vtBgNxMyZI&pp=ygUMY2hheSBuZ2F5IGRp\n",
            "CHẠY NGAY ĐI | RUN NOW | SƠN TÙNG M-TP | Official Music Video\n",
            "/watch?v=32sYGCOYJUM&pp=ygUMY2hheSBuZ2F5IGRp\n",
            "http://www.youtube.com/watch?v=32sYGCOYJUM&pp=ygUMY2hheSBuZ2F5IGRp\n",
            "Chạy ngay đi - (sped up)\n",
            "/watch?v=ELXKUpZPr9U&pp=ygUMY2hheSBuZ2F5IGRp\n",
            "http://www.youtube.com/watch?v=ELXKUpZPr9U&pp=ygUMY2hheSBuZ2F5IGRp\n",
            "《和訳》𝙏𝙞𝙠 𝙏𝙤𝙠で流行ってる曲 |  Chạy Ngay Đi (Onionn Remix ) - Sơn Tùng M-TP\n",
            "/watch?v=4Z5G-81SJa4&pp=ygUMY2hheSBuZ2F5IGRp\n",
            "http://www.youtube.com/watch?v=4Z5G-81SJa4&pp=ygUMY2hheSBuZ2F5IGRp\n",
            "chay ngay di x confident // sped up\n",
            "/watch?v=C4daH_9l3mA&pp=ygUMY2hheSBuZ2F5IGRp\n",
            "http://www.youtube.com/watch?v=C4daH_9l3mA&pp=ygUMY2hheSBuZ2F5IGRp\n",
            "Chạy ngay đi Búp Bê !!! Tất cả mọi người trong trường học đã trở thành xác sống - Tổng hợp video hay\n",
            "/watch?v=JY7OD9QhV-I&pp=ygUMY2hheSBuZ2F5IGRp\n",
            "http://www.youtube.com/watch?v=JY7OD9QhV-I&pp=ygUMY2hheSBuZ2F5IGRp\n",
            "chay ngay di (onionn remix) - sped up\n",
            "/watch?v=V7EqtaI2jHk&pp=ygUMY2hheSBuZ2F5IGRp\n",
            "http://www.youtube.com/watch?v=V7EqtaI2jHk&pp=ygUMY2hheSBuZ2F5IGRp\n",
            "CHẠY NGAY ĐI ( ONIONN REMIX ) // SƠN TÙNG M-TP [ Edit Audio ]\n",
            "/watch?v=ujS-ushyaWM&pp=ygUMY2hheSBuZ2F5IGRp\n",
            "http://www.youtube.com/watch?v=ujS-ushyaWM&pp=ygUMY2hheSBuZ2F5IGRp\n",
            "CHẠY NGAY ĐI || SOLV REMIX ( HOT TIK TOK )\n",
            "/watch?v=TY82PxEqYH0&pp=ygUMY2hheSBuZ2F5IGRp\n",
            "http://www.youtube.com/watch?v=TY82PxEqYH0&pp=ygUMY2hheSBuZ2F5IGRp\n",
            "chay ngay di - speed up\n",
            "/watch?v=qlIrzQ5Kk5w&pp=ygUMY2hheSBuZ2F5IGRp\n",
            "http://www.youtube.com/watch?v=qlIrzQ5Kk5w&pp=ygUMY2hheSBuZ2F5IGRp\n"
          ]
        }
      ],
      "source": [
        "from openpyxl import Workbook\n",
        "from youtube_search import YoutubeSearch\n",
        "import webbrowser\n",
        "\n",
        "data = Workbook()\n",
        "sheet = data.active\n",
        "mysong = input('Xin nhap ten bai hat: ')\n",
        "result = YoutubeSearch(mysong, max_results=10).to_dict()\n",
        "\n",
        "for i in range(10):\n",
        "    print(result[i]['title'])\n",
        "    print(result[i]['url_suffix'])\n",
        "    url = 'http://www.youtube.com' + result[i]['url_suffix']\n",
        "    print(url)\n",
        "    sheet['A'+str(i+1)] = i+1\n",
        "    sheet['B'+str(i+1)] = result[i]['title']\n",
        "    sheet['C'+str(i+1)] = result[i]['url_suffix']\n",
        "    sheet['D'+str(i+1)] = url\n",
        "    sheet['E'+str(i+1)]=result[i]['duration']\n",
        "    webbrowser.open(url)\n",
        "\n",
        "data.save('nhac.xlsx')\n"
      ]
    },
    {
      "cell_type": "code",
      "execution_count": null,
      "metadata": {
        "colab": {
          "base_uri": "https://localhost:8080/"
        },
        "id": "F4OECpdoBy1F",
        "outputId": "dda477af-8ffd-47ce-d49f-abce47ac2ccc"
      },
      "outputs": [
        {
          "name": "stdout",
          "output_type": "stream",
          "text": [
            "Xin nhập tên bài hát: chay ngay di\n",
            "1. CHẠY NGAY ĐI (ONIONN REMIX)| RUN NOW (ONIONN REMIX) | SƠN TÙNG M-TP | Official Music Video (5:17)\n",
            "2. CHẠY NGAY ĐI | RUN NOW | SƠN TÙNG M-TP | Official Music Video (4:34)\n",
            "3. Chạy ngay đi - (sped up) (2:43)\n",
            "4. 《和訳》𝙏𝙞𝙠 𝙏𝙤𝙠で流行ってる曲 |  Chạy Ngay Đi (Onionn Remix ) - Sơn Tùng M-TP (2:45)\n",
            "5. chay ngay di x confident // sped up (3:31)\n",
            "6. Chạy ngay đi Búp Bê !!! Tất cả mọi người trong trường học đã trở thành xác sống - Tổng hợp video hay (28:41)\n",
            "7. chay ngay di (onionn remix) - sped up (2:49)\n",
            "8. CHẠY NGAY ĐI ( ONIONN REMIX ) // SƠN TÙNG M-TP [ Edit Audio ] (0:24)\n",
            "9. CHẠY NGAY ĐI || SOLV REMIX ( HOT TIK TOK ) (4:09)\n",
            "10. chay ngay di - speed up (2:46)\n"
          ]
        }
      ],
      "source": [
        "from openpyxl import Workbook\n",
        "from youtube_search import YoutubeSearch\n",
        "import webbrowser\n",
        "\n",
        "data = Workbook()\n",
        "sheet = data.active\n",
        "mysong = input('Xin nhập tên bài hát: ')\n",
        "results = YoutubeSearch(mysong, max_results=10).to_dict()\n",
        "\n",
        "for i in range(10):\n",
        "    print(f\"{i+1}. {results[i]['title']} ({results[i]['duration']})\")\n",
        "    url = f\"http://www.youtube.com{results[i]['url_suffix']}\"\n",
        "    sheet['A'+str(i+1)] = i+1\n",
        "    sheet['B'+str(i+1)] = results[i]['title']\n",
        "    sheet['C'+str(i+1)] = results[i]['url_suffix']\n",
        "    sheet['D'+str(i+1)] = url\n",
        "    sheet['E'+str(i+1)] = results[i]['duration']\n",
        "\n",
        "data.save('nhac.xlsx')\n"
      ]
    },
    {
      "cell_type": "code",
      "execution_count": null,
      "metadata": {
        "colab": {
          "base_uri": "https://localhost:8080/"
        },
        "id": "n_HMp2VCCEjk",
        "outputId": "3deab712-016b-4226-907e-8280072095b6"
      },
      "outputs": [
        {
          "name": "stdout",
          "output_type": "stream",
          "text": [
            "Looking in indexes: https://pypi.org/simple, https://us-python.pkg.dev/colab-wheels/public/simple/\n",
            "Collecting SpeechRecognition\n",
            "  Downloading SpeechRecognition-3.10.0-py2.py3-none-any.whl (32.8 MB)\n",
            "\u001b[2K     \u001b[90m━━━━━━━━━━━━━━━━━━━━━━━━━━━━━━━━━━━━━━━━\u001b[0m \u001b[32m32.8/32.8 MB\u001b[0m \u001b[31m28.9 MB/s\u001b[0m eta \u001b[36m0:00:00\u001b[0m\n",
            "\u001b[?25hRequirement already satisfied: requests>=2.26.0 in /usr/local/lib/python3.9/dist-packages (from SpeechRecognition) (2.27.1)\n",
            "Requirement already satisfied: charset-normalizer~=2.0.0 in /usr/local/lib/python3.9/dist-packages (from requests>=2.26.0->SpeechRecognition) (2.0.12)\n",
            "Requirement already satisfied: idna<4,>=2.5 in /usr/local/lib/python3.9/dist-packages (from requests>=2.26.0->SpeechRecognition) (3.4)\n",
            "Requirement already satisfied: certifi>=2017.4.17 in /usr/local/lib/python3.9/dist-packages (from requests>=2.26.0->SpeechRecognition) (2022.12.7)\n",
            "Requirement already satisfied: urllib3<1.27,>=1.21.1 in /usr/local/lib/python3.9/dist-packages (from requests>=2.26.0->SpeechRecognition) (1.26.15)\n",
            "Installing collected packages: SpeechRecognition\n",
            "Successfully installed SpeechRecognition-3.10.0\n"
          ]
        }
      ],
      "source": [
        "pip install SpeechRecognition "
      ]
    },
    {
      "cell_type": "code",
      "execution_count": 17,
      "metadata": {
        "colab": {
          "base_uri": "https://localhost:8080/"
        },
        "id": "9rnlm-PaCiwj",
        "outputId": "a323c710-aace-4690-b1b0-de3282194aa9"
      },
      "outputs": [
        {
          "output_type": "stream",
          "name": "stdout",
          "text": [
            "what if somebody decides to break it be careful that you keep adequate coverage but look for places to save money baby it's taking longer to get things squared away than the bankers expected during the wife for once company may win her tax hated retirement income as helpful as our cost on the two naked bone when the title of this type of song is in question there's no dying or waxing or gassing needed maybe personalized leather hard place work on a flat surface and smooth out the simplest kind of separate system uses a single self-contained unit the old shop at it still holds a good mechanic is usually a bad boss both figures would go higher in later years doll houses at set\n"
          ]
        }
      ],
      "source": [
        "import speech_recognition as sr\n",
        "\n",
        "file = 'male.wav'\n",
        "r = sr.Recognizer()\n",
        "\n",
        "with sr.AudioFile(file) as source:\n",
        "    audio_data = r.record(source)\n",
        "    text = r.recognize_google(audio_data)\n",
        "    print(text)\n"
      ]
    },
    {
      "cell_type": "code",
      "source": [
        "import speech_recognition as sr \n",
        "r=sr.Recognizer()\n",
        "with sr.AudioFile('/content/male.wav')as source:\n",
        " audio=r.record(source)\n",
        "r.recognize_google(audio,language='es-MX')\n",
        "\n"
      ],
      "metadata": {
        "colab": {
          "base_uri": "https://localhost:8080/",
          "height": 53
        },
        "id": "qxuQQFVrFhne",
        "outputId": "2b2da3c7-dcc2-4cb4-82ea-fc94d7a037ba"
      },
      "execution_count": 24,
      "outputs": [
        {
          "output_type": "execute_result",
          "data": {
            "text/plain": [
              "'water Side Side Story characters that are correct about places to save Money is taking longer to get Square wave 2021 different country Motors'"
            ],
            "application/vnd.google.colaboratory.intrinsic+json": {
              "type": "string"
            }
          },
          "metadata": {},
          "execution_count": 24
        }
      ]
    },
    {
      "cell_type": "code",
      "source": [
        "#Xuống dòng ở mỗi khoảng thời gian ta set\n",
        "test = sr.Recognizer()\n",
        "with sr.AudioFile('male.wav') as source:\n",
        "  audio1 = r.record(source, duration=4) #4 giay la dung\n",
        "  audio2 = r.record(source, duration=10)\n",
        "  audio3 = r.record(source, offset=4, duration=10)\n",
        "\n",
        "print(r.recognize_google(audio1))\n",
        "print(r.recognize_google(audio2))\n",
        "print(r.recognize_google(audio3))"
      ],
      "metadata": {
        "colab": {
          "base_uri": "https://localhost:8080/"
        },
        "id": "JGvbjYdSJiVJ",
        "outputId": "5b6e7970-a442-414c-fc7d-5438d6985f02"
      },
      "execution_count": 55,
      "outputs": [
        {
          "output_type": "stream",
          "name": "stdout",
          "text": [
            "what if somebody decides to break it be careful that you keep attic\n",
            "but look for places to save money baby it's taking longer to get things squared away than the bankers expected hiring the Y for one company may win her tie\n",
            "Elsa saving Rags are hers latest on the two naked bone into when the title of this type of song is in question there's no dying or waxing\n"
          ]
        }
      ]
    },
    {
      "cell_type": "code",
      "source": [
        "pip install gTTS"
      ],
      "metadata": {
        "colab": {
          "base_uri": "https://localhost:8080/"
        },
        "id": "jj7uSGFwKDri",
        "outputId": "bc36dafc-2fa4-4c08-cf3d-8000f9928c52"
      },
      "execution_count": 29,
      "outputs": [
        {
          "output_type": "stream",
          "name": "stdout",
          "text": [
            "Looking in indexes: https://pypi.org/simple, https://us-python.pkg.dev/colab-wheels/public/simple/\n",
            "Collecting gTTS\n",
            "  Downloading gTTS-2.3.1-py3-none-any.whl (28 kB)\n",
            "Requirement already satisfied: requests<3,>=2.27 in /usr/local/lib/python3.9/dist-packages (from gTTS) (2.27.1)\n",
            "Requirement already satisfied: click<8.2,>=7.1 in /usr/local/lib/python3.9/dist-packages (from gTTS) (8.1.3)\n",
            "Requirement already satisfied: certifi>=2017.4.17 in /usr/local/lib/python3.9/dist-packages (from requests<3,>=2.27->gTTS) (2022.12.7)\n",
            "Requirement already satisfied: charset-normalizer~=2.0.0 in /usr/local/lib/python3.9/dist-packages (from requests<3,>=2.27->gTTS) (2.0.12)\n",
            "Requirement already satisfied: idna<4,>=2.5 in /usr/local/lib/python3.9/dist-packages (from requests<3,>=2.27->gTTS) (3.4)\n",
            "Requirement already satisfied: urllib3<1.27,>=1.21.1 in /usr/local/lib/python3.9/dist-packages (from requests<3,>=2.27->gTTS) (1.26.15)\n",
            "Installing collected packages: gTTS\n",
            "Successfully installed gTTS-2.3.1\n"
          ]
        }
      ]
    },
    {
      "cell_type": "code",
      "source": [
        "pip install playsound\n"
      ],
      "metadata": {
        "colab": {
          "base_uri": "https://localhost:8080/"
        },
        "id": "sjhXs0AbMqlK",
        "outputId": "62fa5f0d-63cc-4b0f-95d0-7ee15f9348d8"
      },
      "execution_count": 43,
      "outputs": [
        {
          "output_type": "stream",
          "name": "stdout",
          "text": [
            "Looking in indexes: https://pypi.org/simple, https://us-python.pkg.dev/colab-wheels/public/simple/\n",
            "Requirement already satisfied: playsound in /usr/local/lib/python3.9/dist-packages (1.3.0)\n"
          ]
        }
      ]
    },
    {
      "cell_type": "code",
      "source": [
        "from gtts import gTTS\n",
        "import os\n",
        "from playsound import playsound\n",
        "\n",
        "A='oh la la la anh yeu em '\n",
        "speak=gTTS(text=A,lang='zh',slow=False)\n",
        "speak.save('anh yeu em.mp3')\n",
        "#playsound('/content/am thanh da cat.mp3')\n",
        "#os.remove('/content/am thanh da cat.mp3')\n",
        "print(text)"
      ],
      "metadata": {
        "colab": {
          "base_uri": "https://localhost:8080/"
        },
        "id": "bJEWc5UuKZXr",
        "outputId": "28ac6770-11d8-419a-d23e-4f1b5ac198d7"
      },
      "execution_count": 51,
      "outputs": [
        {
          "output_type": "stream",
          "name": "stdout",
          "text": [
            "xin chào, đây là giọng nói được tạo bởi gTTS\n"
          ]
        }
      ]
    },
    {
      "cell_type": "code",
      "source": [
        "pip install googletrans==3.1.0a0"
      ],
      "metadata": {
        "colab": {
          "base_uri": "https://localhost:8080/",
          "height": 956
        },
        "id": "bG4WVOZORV6Z",
        "outputId": "7867d2ed-3b97-4f56-a323-0d4aa8adc2e3"
      },
      "execution_count": 52,
      "outputs": [
        {
          "output_type": "stream",
          "name": "stdout",
          "text": [
            "Looking in indexes: https://pypi.org/simple, https://us-python.pkg.dev/colab-wheels/public/simple/\n",
            "Collecting googletrans==3.1.0a0\n",
            "  Downloading googletrans-3.1.0a0.tar.gz (19 kB)\n",
            "  Preparing metadata (setup.py) ... \u001b[?25l\u001b[?25hdone\n",
            "Collecting httpx==0.13.3\n",
            "  Downloading httpx-0.13.3-py3-none-any.whl (55 kB)\n",
            "\u001b[2K     \u001b[90m━━━━━━━━━━━━━━━━━━━━━━━━━━━━━━━━━━━━━━━━\u001b[0m \u001b[32m55.1/55.1 kB\u001b[0m \u001b[31m5.6 MB/s\u001b[0m eta \u001b[36m0:00:00\u001b[0m\n",
            "\u001b[?25hCollecting idna==2.*\n",
            "  Downloading idna-2.10-py2.py3-none-any.whl (58 kB)\n",
            "\u001b[2K     \u001b[90m━━━━━━━━━━━━━━━━━━━━━━━━━━━━━━━━━━━━━━━━\u001b[0m \u001b[32m58.8/58.8 kB\u001b[0m \u001b[31m6.7 MB/s\u001b[0m eta \u001b[36m0:00:00\u001b[0m\n",
            "\u001b[?25hCollecting httpcore==0.9.*\n",
            "  Downloading httpcore-0.9.1-py3-none-any.whl (42 kB)\n",
            "\u001b[2K     \u001b[90m━━━━━━━━━━━━━━━━━━━━━━━━━━━━━━━━━━━━━━━━\u001b[0m \u001b[32m42.6/42.6 kB\u001b[0m \u001b[31m5.2 MB/s\u001b[0m eta \u001b[36m0:00:00\u001b[0m\n",
            "\u001b[?25hCollecting rfc3986<2,>=1.3\n",
            "  Downloading rfc3986-1.5.0-py2.py3-none-any.whl (31 kB)\n",
            "Requirement already satisfied: sniffio in /usr/local/lib/python3.9/dist-packages (from httpx==0.13.3->googletrans==3.1.0a0) (1.3.0)\n",
            "Collecting hstspreload\n",
            "  Downloading hstspreload-2023.1.1-py3-none-any.whl (1.5 MB)\n",
            "\u001b[2K     \u001b[90m━━━━━━━━━━━━━━━━━━━━━━━━━━━━━━━━━━━━━━━━\u001b[0m \u001b[32m1.5/1.5 MB\u001b[0m \u001b[31m46.9 MB/s\u001b[0m eta \u001b[36m0:00:00\u001b[0m\n",
            "\u001b[?25hRequirement already satisfied: certifi in /usr/local/lib/python3.9/dist-packages (from httpx==0.13.3->googletrans==3.1.0a0) (2022.12.7)\n",
            "Collecting chardet==3.*\n",
            "  Downloading chardet-3.0.4-py2.py3-none-any.whl (133 kB)\n",
            "\u001b[2K     \u001b[90m━━━━━━━━━━━━━━━━━━━━━━━━━━━━━━━━━━━━━━\u001b[0m \u001b[32m133.4/133.4 kB\u001b[0m \u001b[31m12.7 MB/s\u001b[0m eta \u001b[36m0:00:00\u001b[0m\n",
            "\u001b[?25hCollecting h2==3.*\n",
            "  Downloading h2-3.2.0-py2.py3-none-any.whl (65 kB)\n",
            "\u001b[2K     \u001b[90m━━━━━━━━━━━━━━━━━━━━━━━━━━━━━━━━━━━━━━━━\u001b[0m \u001b[32m65.0/65.0 kB\u001b[0m \u001b[31m7.6 MB/s\u001b[0m eta \u001b[36m0:00:00\u001b[0m\n",
            "\u001b[?25hCollecting h11<0.10,>=0.8\n",
            "  Downloading h11-0.9.0-py2.py3-none-any.whl (53 kB)\n",
            "\u001b[2K     \u001b[90m━━━━━━━━━━━━━━━━━━━━━━━━━━━━━━━━━━━━━━━━\u001b[0m \u001b[32m53.6/53.6 kB\u001b[0m \u001b[31m6.7 MB/s\u001b[0m eta \u001b[36m0:00:00\u001b[0m\n",
            "\u001b[?25hCollecting hyperframe<6,>=5.2.0\n",
            "  Downloading hyperframe-5.2.0-py2.py3-none-any.whl (12 kB)\n",
            "Collecting hpack<4,>=3.0\n",
            "  Downloading hpack-3.0.0-py2.py3-none-any.whl (38 kB)\n",
            "Building wheels for collected packages: googletrans\n",
            "  Building wheel for googletrans (setup.py) ... \u001b[?25l\u001b[?25hdone\n",
            "  Created wheel for googletrans: filename=googletrans-3.1.0a0-py3-none-any.whl size=16368 sha256=0d362d09afe06c6ccf6fffb5ff1ca295b7e12618f37dd916eb3a1c31348e5ba7\n",
            "  Stored in directory: /root/.cache/pip/wheels/ae/e1/6c/5137bc3f35aa130deea71575e165cc4f4f0680a88f3d90a636\n",
            "Successfully built googletrans\n",
            "Installing collected packages: rfc3986, hyperframe, hpack, h11, chardet, idna, hstspreload, h2, httpcore, httpx, googletrans\n",
            "  Attempting uninstall: chardet\n",
            "    Found existing installation: chardet 4.0.0\n",
            "    Uninstalling chardet-4.0.0:\n",
            "      Successfully uninstalled chardet-4.0.0\n",
            "  Attempting uninstall: idna\n",
            "    Found existing installation: idna 3.4\n",
            "    Uninstalling idna-3.4:\n",
            "      Successfully uninstalled idna-3.4\n",
            "Successfully installed chardet-3.0.4 googletrans-3.1.0a0 h11-0.9.0 h2-3.2.0 hpack-3.0.0 hstspreload-2023.1.1 httpcore-0.9.1 httpx-0.13.3 hyperframe-5.2.0 idna-2.10 rfc3986-1.5.0\n"
          ]
        },
        {
          "output_type": "display_data",
          "data": {
            "application/vnd.colab-display-data+json": {
              "pip_warning": {
                "packages": [
                  "chardet",
                  "idna"
                ]
              }
            }
          },
          "metadata": {}
        }
      ]
    },
    {
      "cell_type": "code",
      "source": [],
      "metadata": {
        "id": "5PcNuccQYV-Y"
      },
      "execution_count": null,
      "outputs": []
    },
    {
      "cell_type": "code",
      "source": [
        "from googletrans import Translator\n",
        "translator = Translator()\n",
        "translator = translator.translate('Hong be oi', lest='ru')\n",
        "print(translator.text)"
      ],
      "metadata": {
        "colab": {
          "base_uri": "https://localhost:8080/"
        },
        "id": "pZcBRjavSmDo",
        "outputId": "26d7c243-6f35-4dff-f1f5-907de4c671cb"
      },
      "execution_count": 54,
      "outputs": [
        {
          "output_type": "stream",
          "name": "stdout",
          "text": [
            "Hong be oi\n"
          ]
        }
      ]
    },
    {
      "cell_type": "code",
      "source": [
        "test = sr.Recognizer()\n",
        "with sr.AudioFile('male.wav') as source:\n",
        "  audio1 = r.record(source, duration=4) #4 giay la dung\n",
        "  audio2 = r.record(source, duration=10)\n",
        "  audio3 = r.record(source, offset=4, duration=10)\n",
        "\n",
        "print(r.recognize_google(audio1))\n",
        "print(r.recognize_google(audio2))\n",
        "print(r.recognize_google(audio3))\n",
        "from gtts import gTTS\n",
        "import os\n",
        "from playsound import playsound\n",
        "\n",
        "A='what if somebody decides to break it be careful that you keep attic/but look for places to save money baby its taking longer to get things squared away than the bankers expected hiring the Y for one company may win her tie '\n",
        "speak=gTTS(text=A,lang='fr-FR',slow=False)\n",
        "speak.save('bt1.mp3')\n",
        "#playsound('/content/am thanh da cat.mp3')\n",
        "#os.remove('/content/am thanh da cat.mp3')\n",
        "print(text)"
      ],
      "metadata": {
        "colab": {
          "base_uri": "https://localhost:8080/",
          "height": 235
        },
        "id": "tv5573EST4op",
        "outputId": "6d00d721-f5d4-4de0-bf63-026ff4b6571e"
      },
      "execution_count": 4,
      "outputs": [
        {
          "output_type": "error",
          "ename": "NameError",
          "evalue": "ignored",
          "traceback": [
            "\u001b[0;31m---------------------------------------------------------------------------\u001b[0m",
            "\u001b[0;31mNameError\u001b[0m                                 Traceback (most recent call last)",
            "\u001b[0;32m<ipython-input-4-0d6571ac5ec2>\u001b[0m in \u001b[0;36m<cell line: 1>\u001b[0;34m()\u001b[0m\n\u001b[0;32m----> 1\u001b[0;31m \u001b[0mtest\u001b[0m \u001b[0;34m=\u001b[0m \u001b[0msr\u001b[0m\u001b[0;34m.\u001b[0m\u001b[0mRecognizer\u001b[0m\u001b[0;34m(\u001b[0m\u001b[0;34m)\u001b[0m\u001b[0;34m\u001b[0m\u001b[0;34m\u001b[0m\u001b[0m\n\u001b[0m\u001b[1;32m      2\u001b[0m \u001b[0;32mwith\u001b[0m \u001b[0msr\u001b[0m\u001b[0;34m.\u001b[0m\u001b[0mAudioFile\u001b[0m\u001b[0;34m(\u001b[0m\u001b[0;34m'male.wav'\u001b[0m\u001b[0;34m)\u001b[0m \u001b[0;32mas\u001b[0m \u001b[0msource\u001b[0m\u001b[0;34m:\u001b[0m\u001b[0;34m\u001b[0m\u001b[0;34m\u001b[0m\u001b[0m\n\u001b[1;32m      3\u001b[0m   \u001b[0maudio1\u001b[0m \u001b[0;34m=\u001b[0m \u001b[0mr\u001b[0m\u001b[0;34m.\u001b[0m\u001b[0mrecord\u001b[0m\u001b[0;34m(\u001b[0m\u001b[0msource\u001b[0m\u001b[0;34m,\u001b[0m \u001b[0mduration\u001b[0m\u001b[0;34m=\u001b[0m\u001b[0;36m4\u001b[0m\u001b[0;34m)\u001b[0m \u001b[0;31m#4 giay la dung\u001b[0m\u001b[0;34m\u001b[0m\u001b[0;34m\u001b[0m\u001b[0m\n\u001b[1;32m      4\u001b[0m   \u001b[0maudio2\u001b[0m \u001b[0;34m=\u001b[0m \u001b[0mr\u001b[0m\u001b[0;34m.\u001b[0m\u001b[0mrecord\u001b[0m\u001b[0;34m(\u001b[0m\u001b[0msource\u001b[0m\u001b[0;34m,\u001b[0m \u001b[0mduration\u001b[0m\u001b[0;34m=\u001b[0m\u001b[0;36m10\u001b[0m\u001b[0;34m)\u001b[0m\u001b[0;34m\u001b[0m\u001b[0;34m\u001b[0m\u001b[0m\n\u001b[1;32m      5\u001b[0m   \u001b[0maudio3\u001b[0m \u001b[0;34m=\u001b[0m \u001b[0mr\u001b[0m\u001b[0;34m.\u001b[0m\u001b[0mrecord\u001b[0m\u001b[0;34m(\u001b[0m\u001b[0msource\u001b[0m\u001b[0;34m,\u001b[0m \u001b[0moffset\u001b[0m\u001b[0;34m=\u001b[0m\u001b[0;36m4\u001b[0m\u001b[0;34m,\u001b[0m \u001b[0mduration\u001b[0m\u001b[0;34m=\u001b[0m\u001b[0;36m10\u001b[0m\u001b[0;34m)\u001b[0m\u001b[0;34m\u001b[0m\u001b[0;34m\u001b[0m\u001b[0m\n",
            "\u001b[0;31mNameError\u001b[0m: name 'sr' is not defined"
          ]
        }
      ]
    },
    {
      "cell_type": "code",
      "source": [
        "pip install python_speech_features"
      ],
      "metadata": {
        "colab": {
          "base_uri": "https://localhost:8080/"
        },
        "id": "V7-KAbSActJO",
        "outputId": "1e3dbf6d-948e-4292-b384-cce1b2a72abc"
      },
      "execution_count": 6,
      "outputs": [
        {
          "output_type": "stream",
          "name": "stdout",
          "text": [
            "Looking in indexes: https://pypi.org/simple, https://us-python.pkg.dev/colab-wheels/public/simple/\n",
            "Collecting python_speech_features\n",
            "  Downloading python_speech_features-0.6.tar.gz (5.6 kB)\n",
            "  Preparing metadata (setup.py) ... \u001b[?25l\u001b[?25hdone\n",
            "Building wheels for collected packages: python_speech_features\n",
            "  Building wheel for python_speech_features (setup.py) ... \u001b[?25l\u001b[?25hdone\n",
            "  Created wheel for python_speech_features: filename=python_speech_features-0.6-py3-none-any.whl size=5886 sha256=c90dc43d31649ff9e4a0cd3b1401e9c2ec70a5f122b7d551159173f7a66a361a\n",
            "  Stored in directory: /root/.cache/pip/wheels/09/a1/04/08e2688d2562d8f9ff89e77c6ddfbf7268e07dae1a6f22455e\n",
            "Successfully built python_speech_features\n",
            "Installing collected packages: python_speech_features\n",
            "Successfully installed python_speech_features-0.6\n"
          ]
        }
      ]
    },
    {
      "cell_type": "code",
      "source": [
        "#mfcc\n",
        "import numpy as np\n",
        "import matplotlib.pyplot as plt\n",
        "from scipy.io import wavfile\n",
        "from python_speech_features import mfcc, logfbank\n",
        "\n",
        "frequency_sample, audio_signal= wavfile.read('/content/Tieng-heo-keu-Tik-Tok-www_nhacchuongvui_com.wav')\n",
        "audio_signal= audio_signal[:1500]\n",
        "feature_mfcc=mfcc(audio_signal,frequency_sample)\n",
        "print('\\nMFCC:\\n Number of windows=', feature_mfcc.shape[0])\n",
        "print('Length of each feature:',feature_mfcc.shape[1])\n",
        "feature_mfcc=feature_mfcc.T\n",
        "plt.matshow(feature_mfcc)\n",
        "plt.title('MFCC')\n",
        "filterbank_feature=logfbank(audio_signal, frequency_sample)\n",
        "print('\\nFilter bank:\\n Number of windows=', filterbank_feature.shape[0])\n",
        "print('Length of each feature:', filterbank_feature.shape[1])\n",
        "filterbank_feature=filterbank_feature.T\n",
        "plt.matshow(filterbank_feature)\n",
        "plt.title('filter bank')\n",
        "plt.show()\n"
      ],
      "metadata": {
        "colab": {
          "base_uri": "https://localhost:8080/",
          "height": 1000
        },
        "id": "N4Tqxz8tYYeI",
        "outputId": "a7dd56a4-c9e6-4ab8-8955-8cd07c32f874"
      },
      "execution_count": 15,
      "outputs": [
        {
          "output_type": "stream",
          "name": "stderr",
          "text": [
            "WARNING:root:frame length (1103) is greater than FFT size (512), frame will be truncated. Increase NFFT to avoid.\n",
            "WARNING:root:frame length (1103) is greater than FFT size (512), frame will be truncated. Increase NFFT to avoid.\n"
          ]
        },
        {
          "output_type": "stream",
          "name": "stdout",
          "text": [
            "\n",
            "MFCC:\n",
            " Number of windows= 2\n",
            "Length of each feature: 13\n",
            "\n",
            "Filter bank:\n",
            " Number of windows= 2\n",
            "Length of each feature: 26\n"
          ]
        },
        {
          "output_type": "display_data",
          "data": {
            "text/plain": [
              "<Figure size 400x1600 with 1 Axes>"
            ],
            "image/png": "[encoded data removed]"
          },
          "metadata": {}
        },
        {
          "output_type": "display_data",
          "data": {
            "text/plain": [
              "<Figure size 400x1600 with 1 Axes>"
            ],
            "image/png": "[encoded data removed]"
          },
          "metadata": {}
        }
      ]
    },
    {
      "cell_type": "code",
      "source": [
        "import numpy as np\n",
        "import matplotlib.pyplot as plt\n",
        "from scipy.io import wavfile\n",
        "from python_speech_features import mfcc\n",
        "\n",
        "# Read audio file\n",
        "sample_rate, audio_signal = wavfile.read('/content/Tieng-heo-keu-Tik-Tok-www_nhacchuongvui_com.wav')\n",
        "\n",
        "# Truncate audio signal to reduce computation time\n",
        "audio_signal = audio_signal[:1500]\n",
        "\n",
        "# Calculate MFCCs\n",
        "mfcc_features = mfcc(audio_signal, sample_rate)\n",
        "\n",
        "# Print some information about the MFCC matrix\n",
        "print('\\nMFCC:')\n",
        "print('Number of windows:', mfcc_features.shape[0])\n",
        "print('Length of each feature:', mfcc_features.shape[1])\n",
        "\n",
        "# Transpose the MFCC matrix for visualization\n",
        "mfcc_features = mfcc_features.T\n",
        "\n",
        "# Visualize the MFCC matrix\n",
        "plt.matshow(mfcc_features)\n",
        "plt.title('MFCC')\n",
        "plt.show()"
      ],
      "metadata": {
        "colab": {
          "base_uri": "https://localhost:8080/",
          "height": 1000
        },
        "id": "eVrUYKD3eO-f",
        "outputId": "619ba217-5547-45b0-97f1-abda844545cc"
      },
      "execution_count": 12,
      "outputs": [
        {
          "output_type": "stream",
          "name": "stderr",
          "text": [
            "WARNING:root:frame length (1103) is greater than FFT size (512), frame will be truncated. Increase NFFT to avoid.\n"
          ]
        },
        {
          "output_type": "stream",
          "name": "stdout",
          "text": [
            "\n",
            "MFCC:\n",
            "Number of windows: 2\n",
            "Length of each feature: 13\n"
          ]
        },
        {
          "output_type": "display_data",
          "data": {
            "text/plain": [
              "<Figure size 400x1600 with 1 Axes>"
            ],
            "image/png": "[encoded data removed]"
          },
          "metadata": {}
        }
      ]
    },
    {
      "cell_type": "code",
      "source": [
        "filterbank_features=logfbank(audio_signal,frequency_sample)\n",
        "print('\\nFilter bank:\\n Number of windows=', filterbank_feature.shape[0])\n",
        "print('Length of each feature:', filterbank_feature.shape[1])\n",
        "filterbank_feature=filterbank_feature.T\n",
        "plt.matshow(filterbank_feature)\n",
        "plt.title('filter bank')\n",
        "plt.show()"
      ],
      "metadata": {
        "colab": {
          "base_uri": "https://localhost:8080/",
          "height": 235
        },
        "id": "hWtSWOL1dOSW",
        "outputId": "7484caff-9792-4609-d914-63461aff12d6"
      },
      "execution_count": 14,
      "outputs": [
        {
          "output_type": "error",
          "ename": "NameError",
          "evalue": "ignored",
          "traceback": [
            "\u001b[0;31m---------------------------------------------------------------------------\u001b[0m",
            "\u001b[0;31mNameError\u001b[0m                                 Traceback (most recent call last)",
            "\u001b[0;32m<ipython-input-14-746064b991c8>\u001b[0m in \u001b[0;36m<cell line: 1>\u001b[0;34m()\u001b[0m\n\u001b[0;32m----> 1\u001b[0;31m \u001b[0mfilterbank_features\u001b[0m\u001b[0;34m=\u001b[0m\u001b[0mlogfbank\u001b[0m\u001b[0;34m(\u001b[0m\u001b[0maudio_signal\u001b[0m\u001b[0;34m,\u001b[0m\u001b[0mfrequency_sample\u001b[0m\u001b[0;34m)\u001b[0m\u001b[0;34m\u001b[0m\u001b[0;34m\u001b[0m\u001b[0m\n\u001b[0m\u001b[1;32m      2\u001b[0m \u001b[0mprint\u001b[0m\u001b[0;34m(\u001b[0m\u001b[0;34m'\\nFilter bank:\\n Number of windows='\u001b[0m\u001b[0;34m,\u001b[0m \u001b[0mfilterbank_feature\u001b[0m\u001b[0;34m.\u001b[0m\u001b[0mshape\u001b[0m\u001b[0;34m[\u001b[0m\u001b[0;36m0\u001b[0m\u001b[0;34m]\u001b[0m\u001b[0;34m)\u001b[0m\u001b[0;34m\u001b[0m\u001b[0;34m\u001b[0m\u001b[0m\n\u001b[1;32m      3\u001b[0m \u001b[0mprint\u001b[0m\u001b[0;34m(\u001b[0m\u001b[0;34m'Length of each feature:'\u001b[0m\u001b[0;34m,\u001b[0m \u001b[0mfilterbank_feature\u001b[0m\u001b[0;34m.\u001b[0m\u001b[0mshape\u001b[0m\u001b[0;34m[\u001b[0m\u001b[0;36m1\u001b[0m\u001b[0;34m]\u001b[0m\u001b[0;34m)\u001b[0m\u001b[0;34m\u001b[0m\u001b[0;34m\u001b[0m\u001b[0m\n\u001b[1;32m      4\u001b[0m \u001b[0mfilterbank_feature\u001b[0m\u001b[0;34m=\u001b[0m\u001b[0mfilterbank_feature\u001b[0m\u001b[0;34m.\u001b[0m\u001b[0mT\u001b[0m\u001b[0;34m\u001b[0m\u001b[0;34m\u001b[0m\u001b[0m\n\u001b[1;32m      5\u001b[0m \u001b[0mplt\u001b[0m\u001b[0;34m.\u001b[0m\u001b[0mmatshow\u001b[0m\u001b[0;34m(\u001b[0m\u001b[0mfilterbank_feature\u001b[0m\u001b[0;34m)\u001b[0m\u001b[0;34m\u001b[0m\u001b[0;34m\u001b[0m\u001b[0m\n",
            "\u001b[0;31mNameError\u001b[0m: name 'logfbank' is not defined"
          ]
        }
      ]
    }
  ],
  "metadata": {
    "colab": {
      "provenance": [],
      "authorship_tag": "ABX9TyONTPlWqxPcpcA/MdzTIQTQ",
      "include_colab_link": true
    },
    "kernelspec": {
      "display_name": "Python 3",
      "name": "python3"
    },
    "language_info": {
      "name": "python"
    }
  },
  "nbformat": 4,
  "nbformat_minor": 0
}