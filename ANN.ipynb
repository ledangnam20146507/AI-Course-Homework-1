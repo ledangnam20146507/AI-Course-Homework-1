{
  "nbformat": 4,
  "nbformat_minor": 0,
  "metadata": {
    "colab": {
      "provenance": [],
      "authorship_tag": "ABX9TyOj7FSTqiDatbsXcrrrU7Vv",
      "include_colab_link": true
    },
    "kernelspec": {
      "name": "python3",
      "display_name": "Python 3"
    },
    "language_info": {
      "name": "python"
    }
  },
  "cells": [
    {
      "cell_type": "markdown",
      "metadata": {
        "id": "view-in-github",
        "colab_type": "text"
      },
      "source": [
        "<a href=\"https://colab.research.google.com/github/ledangnam20146507/AI-Course-Homework-1/blob/main/ANN.ipynb\" target=\"_parent\"><img src=\"https://colab.research.google.com/assets/colab-badge.svg\" alt=\"Open In Colab\"/></a>"
      ]
    },
    {
      "cell_type": "code",
      "execution_count": 10,
      "metadata": {
        "colab": {
          "base_uri": "https://localhost:8080/"
        },
        "id": "QlhLTOCbqUNn",
        "outputId": "13c106ca-cb22-4fd0-a8c0-cfc41835f059"
      },
      "outputs": [
        {
          "output_type": "stream",
          "name": "stdout",
          "text": [
            "[1 1 0]\n"
          ]
        },
        {
          "output_type": "execute_result",
          "data": {
            "text/plain": [
              "1.0"
            ]
          },
          "metadata": {},
          "execution_count": 10
        }
      ],
      "source": [
        "from sklearn.linear_model import Perceptron\n",
        "x=[[0,0],[0,1],[1,0],[1,1]]\n",
        "t=[0,1,1,1]\n",
        "model=Perceptron()\n",
        "model.fit(x,t)\n",
        "model.score(x,t)\n",
        "x1=[[0.5,1],[0.5,0.5],[-10,1]]\n",
        "y1=model.predict(x1)\n",
        "print(y1)\n",
        "model.score(x1,y1)"
      ]
    },
    {
      "cell_type": "code",
      "source": [
        "x=[[-0.5,-0.5],[-0.5,0.5],[0.5,0.5],[-0.5,1]]\n",
        "t=[1,1,0,0]\n",
        "model=Perceptron()\n",
        "model.fit(x,t)\n",
        "model.score(x,t)\n",
        "x1=[[0,0],[0.4,0.3]]\n",
        "y1=model.predict(x1)\n",
        "print(y1)\n",
        "model.score(x1,y1)"
      ],
      "metadata": {
        "colab": {
          "base_uri": "https://localhost:8080/"
        },
        "id": "EdlNaJXvuI57",
        "outputId": "bdd0dafc-a168-44f2-94af-6fb835b397a5"
      },
      "execution_count": 12,
      "outputs": [
        {
          "output_type": "stream",
          "name": "stdout",
          "text": [
            "[0 0]\n"
          ]
        },
        {
          "output_type": "execute_result",
          "data": {
            "text/plain": [
              "1.0"
            ]
          },
          "metadata": {},
          "execution_count": 12
        }
      ]
    },
    {
      "cell_type": "code",
      "source": [
        "from numpy.core.fromnumeric import shape\n",
        "from sklearn import datasets\n",
        "from sklearn.linear_model import Perceptron\n",
        "from sklearn.model_selection import train_test_split\n",
        "from sklearn.metrics import accuracy_score\n",
        "from sklearn.preprocessing import StandardScaler\n",
        "import numpy as np\n",
        "\n",
        "\n",
        "iris=datasets.load_iris()\n",
        "\n",
        "\n",
        "shape(iris)\n",
        "x=iris.data\n",
        "y=iris.target\n",
        "print(x[:5])\n",
        "print(y[:5])\n",
        "x_train,x_test,y_train,y_test=train_test_split(x,y,test_size=0.3)\n",
        "sc=StandardScaler()\n",
        "sc.fit(x_train)\n",
        "x_train_std=sc.transform(x_train)\n",
        "x_test_std=sc.transform(x_test)\n",
        "\n",
        "model=Perceptron(max_iter=10000,eta0=0.01,random_state=0)\n",
        "model.fit(x_train_std,y_train)\n",
        "y_pred=model.predict(x_test_std)\n",
        "print(y_pred)\n",
        "print(y_test)\n",
        "print('độ chính xác của màn hình:',accuracy_score(y_test,y_pred))\n",
        "\n"
      ],
      "metadata": {
        "colab": {
          "base_uri": "https://localhost:8080/"
        },
        "id": "hnvYRSQXuI9V",
        "outputId": "e305487c-3aa6-445f-a37b-765d7cd168e3"
      },
      "execution_count": 53,
      "outputs": [
        {
          "output_type": "stream",
          "name": "stdout",
          "text": [
            "[[5.1 3.5 1.4 0.2]\n",
            " [4.9 3.  1.4 0.2]\n",
            " [4.7 3.2 1.3 0.2]\n",
            " [4.6 3.1 1.5 0.2]\n",
            " [5.  3.6 1.4 0.2]]\n",
            "[0 0 0 0 0]\n",
            "[1 0 1 1 2 2 1 2 0 2 0 1 2 0 1 0 1 2 0 0 1 0 0 2 0 1 1 0 0 1 2 0 0 0 0 1 1\n",
            " 0 1 0 2 0 2 2 0]\n",
            "[1 0 1 1 2 2 1 1 0 2 0 1 2 0 1 0 1 2 0 0 1 0 0 2 0 1 1 0 0 1 2 0 0 0 0 1 1\n",
            " 0 1 0 2 0 2 2 0]\n",
            "độ chính xác của màn hình: 0.9777777777777777\n"
          ]
        }
      ]
    },
    {
      "cell_type": "code",
      "source": [
        "from pandas.io.formats.style_render import DataFrame\n",
        "from numpy.core.fromnumeric import shape\n",
        "from sklearn import datasets\n",
        "from sklearn.linear_model import Perceptron\n",
        "from sklearn.model_selection import train_test_split\n",
        "from sklearn.metrics import accuracy_score\n",
        "from sklearn.preprocessing import StandardScaler\n",
        "import numpy as np\n",
        "import pandas as pd\n",
        "url='crabs.csv'\n",
        "data=pd.read_csv(url)\n",
        "data.shape\n",
        "data.head()\n",
        "df=pd.DataFrame(data)\n",
        "data.drop(data.index[100:200],axis=0, inplace=True)\n",
        "data.shape\n",
        "\n",
        "data.replace(to_replace=\"M\",value=0, inplace=True)\n",
        "data.replace(to_replace=\"F\",value=1, inplace=True)\n",
        "data.head()\n",
        "\n",
        "data.drop(data.columns[[0,2]], axis=1, inplace=True)\n",
        "data.head()\n",
        "\n",
        "X = data[['fontallip', 'rearwidth', 'length', 'width', 'depth']].to_numpy()\n",
        "y = data['sex'].to_numpy()\n",
        "\n",
        "X_train, X_test, y_train, y_test = train_test_split(X, y, test_size=0.3)\n",
        "sc = StandardScaler()\n",
        "sc.fit(X_train)\n",
        "X_train_std = sc.transform(X_train)\n",
        "X_test_std = sc.transform(X_test)\n",
        "\n",
        "model = Perceptron(max_iter=1000, eta0=0.1, random_state=0) \n",
        "model.fit(X_train_std,y_train)\n",
        "y_pred = model.predict(X_test_std)\n",
        "print(y_pred)\n",
        "print(\"Do chinh xac cua mo hinh: \", accuracy_score(y_test,y_pred))\n",
        "\n"
      ],
      "metadata": {
        "colab": {
          "base_uri": "https://localhost:8080/"
        },
        "id": "-fXTAVKj-43F",
        "outputId": "e8dac250-63f7-4492-8813-66ff3a322f09"
      },
      "execution_count": 61,
      "outputs": [
        {
          "output_type": "stream",
          "name": "stdout",
          "text": [
            "[1 0 1 1 1 1 1 0 0 1 1 1 1 0 1 0 1 0 0 1 0 1 0 0 1 0 0 0 0 0]\n",
            "Do chinh xac cua mo hinh:  0.9333333333333333\n"
          ]
        }
      ]
    }
  ]
}